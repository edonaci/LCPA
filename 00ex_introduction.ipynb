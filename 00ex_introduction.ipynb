{
 "cells": [
  {
   "cell_type": "markdown",
   "metadata": {},
   "source": [
    "1. The MickeyMouse problem\n",
    "\n",
    "a) Write a program that prints the numbers from 1 to 100. But for multiples of three print Mickey instead of the number and for the multiples of five print Mouse. For numbers which are multiples of both three and five print MickeyMouse\n",
    "\n",
    "b) Put the result in a tuple and substitute Mickey with Donald and Mouse with Duck"
   ]
  },
  {
   "cell_type": "code",
   "execution_count": 10,
   "metadata": {},
   "outputs": [
    {
     "name": "stdout",
     "output_type": "stream",
     "text": [
      "[1, 2, 'Mickey', 4, 'Mouse', 'Mickey', 7, 8, 'Mickey', 'Mouse', 11, 'Mickey', 13, 14, 'MickeyMouse', 16, 17, 'Mickey', 19, 'Mouse', 'Mickey', 22, 23, 'Mickey', 'Mouse', 26, 'Mickey', 28, 29, 'MickeyMouse', 31, 32, 'Mickey', 34, 'Mouse', 'Mickey', 37, 38, 'Mickey', 'Mouse', 41, 'Mickey', 43, 44, 'MickeyMouse', 46, 47, 'Mickey', 49, 'Mouse', 'Mickey', 52, 53, 'Mickey', 'Mouse', 56, 'Mickey', 58, 59, 'MickeyMouse', 61, 62, 'Mickey', 64, 'Mouse', 'Mickey', 67, 68, 'Mickey', 'Mouse', 71, 'Mickey', 73, 74, 'MickeyMouse', 76, 77, 'Mickey', 79, 'Mouse', 'Mickey', 82, 83, 'Mickey', 'Mouse', 86, 'Mickey', 88, 89, 'MickeyMouse', 91, 92, 'Mickey', 94, 'Mouse', 'Mickey', 97, 98, 'Mickey', 'Mouse']\n",
      "(1, 2, 'Donald', 4, 'Duck', 'Donald', 7, 8, 'Donald', 'Duck', 11, 'Donald', 13, 14, 'DonaldDuck', 16, 17, 'Donald', 19, 'Duck', 'Donald', 22, 23, 'Donald', 'Duck', 26, 'Donald', 28, 29, 'DonaldDuck', 31, 32, 'Donald', 34, 'Duck', 'Donald', 37, 38, 'Donald', 'Duck', 41, 'Donald', 43, 44, 'DonaldDuck', 46, 47, 'Donald', 49, 'Duck', 'Donald', 52, 53, 'Donald', 'Duck', 56, 'Donald', 58, 59, 'DonaldDuck', 61, 62, 'Donald', 64, 'Duck', 'Donald', 67, 68, 'Donald', 'Duck', 71, 'Donald', 73, 74, 'DonaldDuck', 76, 77, 'Donald', 79, 'Duck', 'Donald', 82, 83, 'Donald', 'Duck', 86, 'Donald', 88, 89, 'DonaldDuck', 91, 92, 'Donald', 94, 'Duck', 'Donald', 97, 98, 'Donald', 'Duck')\n"
     ]
    }
   ],
   "source": [
    "MM=[]\n",
    "for i in range(1,101) :\n",
    "    if i%3==0 and i%5!=0:\n",
    "        a=\"Mickey\"\n",
    "        MM.append(a)\n",
    "    if i%5==0 and i%3!=0:\n",
    "        a=\"Mouse\"\n",
    "        MM.append(a)\n",
    "    if i%3==0 and i%5==0:\n",
    "        a=\"MickeyMouse\"\n",
    "        MM.append(a)\n",
    "    if i%3!=0 and i%5!=0:\n",
    "        a=i\n",
    "        MM.append(a)\n",
    "        \n",
    "print(MM)\n",
    "\n",
    "for j in range(len(MM)+1):\n",
    "    if j%3==0 and j%5!=0:\n",
    "         MM[j-1]=\"Donald\"\n",
    "    if j%5==0 and j%3!=0:\n",
    "         MM[j-1]=\"Duck\"\n",
    "    if j%5==0 and j%3==0:\n",
    "         MM[j-1]=\"DonaldDuck\"\n",
    "    \n",
    "lista_fissa=tuple(MM)\n",
    "\n",
    "print(lista_fissa)\n"
   ]
  },
  {
   "cell_type": "markdown",
   "metadata": {},
   "source": [
    "2\\. The swap function\n",
    "\n",
    "Write a function that swap the values of two input variables x and y (whatever the type). Try to do that also without a temporary variable"
   ]
  },
  {
   "cell_type": "code",
   "execution_count": 2,
   "metadata": {},
   "outputs": [
    {
     "name": "stdout",
     "output_type": "stream",
     "text": [
      "il valore di a è : 33\n",
      "il valore di b è : 33\n",
      "33\n",
      "33\n"
     ]
    }
   ],
   "source": [
    "a=input(\"il valore di a è : \")\n",
    "b=input(\"il valore di b è : \")\n",
    "\n",
    "def swap(a,b):\n",
    "    c=b\n",
    "    b=a\n",
    "    a=c\n",
    "    print(a)\n",
    "    print(b)\n",
    "    \n",
    "swap(a,b)\n",
    "    \n",
    "    \n",
    "    \n",
    "\n",
    "\n",
    "    "
   ]
  },
  {
   "cell_type": "markdown",
   "metadata": {},
   "source": [
    "3\\. Computing the distance\n",
    "\n",
    "Write a function that calculates and returns the euclidean distance between two points *u* and *v*, where *u* and *v* are both 2-tuples *(x,y)*. For example, if *u=(3,0)* and *v=(0,4)*, the function should return 5"
   ]
  },
  {
   "cell_type": "code",
   "execution_count": 3,
   "metadata": {},
   "outputs": [
    {
     "name": "stdout",
     "output_type": "stream",
     "text": [
      "inserire le due coordinate di a :\n",
      "3\n",
      "3\n",
      "inserire le due coordinate di b :\n",
      "3\n",
      "3\n",
      "la distanza tra i due punti è : 0.0\n"
     ]
    }
   ],
   "source": [
    "import math\n",
    "\n",
    "print(\"inserire le due coordinate di a :\")\n",
    "a=(input(),input())\n",
    "print(\"inserire le due coordinate di b :\")\n",
    "b=(input(),input())\n",
    "\n",
    "def euclidean (a,b):\n",
    "    x1=float(a[0])\n",
    "    y1=float(a[1])\n",
    "    x2=float(b[0])\n",
    "    y2=float(b[1])\n",
    "    distanza=math.sqrt(pow((x2-x1),2)+pow((y2-y1),2))\n",
    "    print(\"la distanza tra i due punti è :\" ,distanza)\n",
    "               \n",
    "euclidean(a,b)            \n",
    "\n",
    "\n"
   ]
  },
  {
   "cell_type": "markdown",
   "metadata": {},
   "source": [
    "4\\. Counting letters\n",
    "\n",
    "Write a program to calculate the number of times each character occurs in a given string *s*. Ignore differneces in capitalization"
   ]
  },
  {
   "cell_type": "code",
   "execution_count": 4,
   "metadata": {},
   "outputs": [
    {
     "name": "stdout",
     "output_type": "stream",
     "text": [
      "w 2\n",
      "r 17\n",
      "i 14\n",
      "t 19\n",
      "e 22\n",
      "a 7\n",
      "p 8\n",
      "o 13\n",
      "g 1\n",
      "m 12\n",
      "h 9\n",
      "n 10\n",
      "s 9\n",
      "u 9\n",
      "b 5\n",
      "f 10\n",
      "1 2\n",
      "0 2\n",
      ". 2\n",
      "l 6\n",
      "c 3\n",
      "k 2\n",
      "y 2\n",
      "d 3\n",
      "v 2\n",
      "\n"
     ]
    }
   ],
   "source": [
    "s=\"Write a program that prints the numbers from 1 to 100. \\\n",
    "But for multiples of three print Mickey instead of the number and for the multiples of five print Mouse. \\\n",
    "For numbers which are multiples of both three and five print MickeyMouse\"\n",
    "\n",
    "aux=s.lower()\n",
    "caratteri=\"\"\n",
    "numero=\"\"\n",
    "numero_caratteri=\"\"\n",
    "\n",
    "\n",
    "for x in aux:\n",
    "    a=str(aux.count(x))\n",
    "    y=caratteri.find(x)\n",
    "    if y==-1:                          #in questo modo sono sicuro che il carattere x non sia già presente in caratteri\n",
    "        caratteri=caratteri + x +\" \\n \"\n",
    "        numero=numero + a + \"\\n \"\n",
    "        numero_caratteri= numero_caratteri+ x +\" \"+ a +\"\\n\" \n",
    "\n",
    "print(numero_caratteri) \n",
    "\n",
    "\n",
    "\n",
    "            \n",
    " \n",
    "    "
   ]
  },
  {
   "cell_type": "markdown",
   "metadata": {},
   "source": [
    "5\\. Isolating the unique\n",
    "\n",
    "Write a function that determines and count the unique numbers in the list *l*"
   ]
  },
  {
   "cell_type": "code",
   "execution_count": 5,
   "metadata": {},
   "outputs": [
    {
     "name": "stdout",
     "output_type": "stream",
     "text": [
      "[58, 74, 96, 64, 10, 24, 19, 33, 86, 99, 18, 47, 88, 55, 54, 8, 79, 81, 57, 37, 1, 9, 95, 90, 98, 39, 16, 82, 92, 41, 30, 94, 5, 72, 87, 75, 53]\n"
     ]
    }
   ],
   "source": [
    "l = [36, 45, 58, 3, 74, 96, 64, 45, 31, 10, 24, 19, 33, 86, 99, 18, 63, 70, 85,\n",
    " 85, 63, 47, 56, 42, 70, 84, 88, 55, 20, 54, 8, 56, 51, 79, 81, 57, 37, 91,\n",
    " 1, 84, 84, 36, 66, 9, 89, 50, 42, 91, 50, 95, 90, 98, 39, 16, 82, 31, 92, 41,\n",
    " 45, 30, 66, 70, 34, 85, 94, 5, 3, 36, 72, 91, 84, 34, 87, 75, 53, 51, 20, 89, 51, 20]\n",
    "\n",
    "verifica=[]\n",
    "\n",
    "def unique(l):\n",
    "    for x in range(len(l)-1):\n",
    "        contatore=1\n",
    "        for y in range(len(l)-1):\n",
    "            if x!=y and l[x]!=l[y] :\n",
    "                contatore=contatore+1\n",
    "        if contatore==len(l)-1:\n",
    "            verifica.append(l[x])\n",
    "    \n",
    "    print(verifica)\n",
    "\n",
    "unique(l)\n",
    "\n",
    "\n",
    "\n",
    "                \n"
   ]
  },
  {
   "cell_type": "markdown",
   "metadata": {},
   "source": [
    "6\\. Combination of functions\n",
    "\n",
    "Write two functions - one that returns the square of a number, and one that returns the cube. Now write a third function that returns the number raised to the 6th power using the two previous functions."
   ]
  },
  {
   "cell_type": "code",
   "execution_count": 6,
   "metadata": {},
   "outputs": [
    {
     "name": "stdout",
     "output_type": "stream",
     "text": [
      "Inserire il valore che sarà elevato alla sesta : \n",
      "4\n"
     ]
    },
    {
     "data": {
      "text/plain": [
       "4096.0"
      ]
     },
     "execution_count": 6,
     "metadata": {},
     "output_type": "execute_result"
    }
   ],
   "source": [
    "import math\n",
    "\n",
    "def square(a):\n",
    "    return pow(a,2)\n",
    "\n",
    "def third(a):\n",
    "    return pow(a,3)\n",
    "\n",
    "def sixth(a):\n",
    "    return(third(square(a)))\n",
    "\n",
    "print(\"Inserire il valore che sarà elevato alla sesta : \")\n",
    "a=float(input())\n",
    "\n",
    "sixth(a)\n"
   ]
  },
  {
   "cell_type": "markdown",
   "metadata": {},
   "source": [
    "7\\. Cubes\n",
    "\n",
    "Create a list of the cubes of x for x in *[0, 10]* using:\n",
    "\n",
    "a) a for loop\n",
    "\n",
    "b) a list comprehension"
   ]
  },
  {
   "cell_type": "code",
   "execution_count": 7,
   "metadata": {},
   "outputs": [
    {
     "name": "stdout",
     "output_type": "stream",
     "text": [
      "[0, 1, 8, 27, 64, 125, 216, 343, 512, 729, 1000]\n",
      "[0, 1, 8, 27, 64, 125, 216, 343, 512, 729, 1000]\n"
     ]
    }
   ],
   "source": [
    "import math\n",
    "\n",
    "l=[]\n",
    "\n",
    "for i in range (0,11):\n",
    "    l.append(pow(i,3))\n",
    "\n",
    "m=[pow(x,3) for x in range (0,11)]\n",
    "\n",
    "print(l)\n",
    "print(m)"
   ]
  },
  {
   "cell_type": "markdown",
   "metadata": {},
   "source": [
    "8\\. Nested list comprehension\n",
    "\n",
    "A Pythagorean triple is an integer solution to the Pythagorean theorem $a^2+b^2=c^2$. The first Pythagorean triple is (3,4,5). Find and put in a tuple all unique Pythagorean triples for the positive integers a, b and c less than 100."
   ]
  },
  {
   "cell_type": "code",
   "execution_count": 8,
   "metadata": {},
   "outputs": [
    {
     "name": "stdout",
     "output_type": "stream",
     "text": [
      "[[3, 4, 5], [4, 3, 5], [5, 12, 13], [6, 8, 10], [7, 24, 25], [8, 6, 10], [8, 15, 17], [9, 12, 15], [9, 40, 41], [10, 24, 26], [11, 60, 61], [12, 5, 13], [12, 9, 15], [12, 16, 20], [12, 35, 37], [13, 84, 85], [14, 48, 50], [15, 8, 17], [15, 20, 25], [15, 36, 39], [16, 12, 20], [16, 30, 34], [16, 63, 65], [18, 24, 30], [18, 80, 82], [20, 15, 25], [20, 21, 29], [20, 48, 52], [21, 20, 29], [21, 28, 35], [21, 72, 75], [24, 7, 25], [24, 10, 26], [24, 18, 30], [24, 32, 40], [24, 45, 51], [24, 70, 74], [25, 60, 65], [27, 36, 45], [28, 21, 35], [28, 45, 53], [30, 16, 34], [30, 40, 50], [30, 72, 78], [32, 24, 40], [32, 60, 68], [33, 44, 55], [33, 56, 65], [35, 12, 37], [35, 84, 91], [36, 15, 39], [36, 27, 45], [36, 48, 60], [36, 77, 85], [39, 52, 65], [39, 80, 89], [40, 9, 41], [40, 30, 50], [40, 42, 58], [40, 75, 85], [42, 40, 58], [42, 56, 70], [44, 33, 55], [45, 24, 51], [45, 28, 53], [45, 60, 75], [48, 14, 50], [48, 20, 52], [48, 36, 60], [48, 55, 73], [48, 64, 80], [51, 68, 85], [52, 39, 65], [54, 72, 90], [55, 48, 73], [56, 33, 65], [56, 42, 70], [57, 76, 95], [60, 11, 61], [60, 25, 65], [60, 32, 68], [60, 45, 75], [60, 63, 87], [63, 16, 65], [63, 60, 87], [64, 48, 80], [65, 72, 97], [68, 51, 85], [70, 24, 74], [72, 21, 75], [72, 30, 78], [72, 54, 90], [72, 65, 97], [75, 40, 85], [76, 57, 95], [77, 36, 85], [80, 18, 82], [80, 39, 89], [84, 13, 85], [84, 35, 91]]\n"
     ]
    }
   ],
   "source": [
    "x=[int(a) for a in range (1,100)]\n",
    "y=[int(b) for b in range (1,100)]\n",
    "z=[int(c) for c in range (1,100)]\n",
    "\n",
    "triple_Pi=[]\n",
    "\n",
    "\n",
    "for i in range(len (x)):\n",
    "    for j in range(len (y)):\n",
    "        for k in range(len (z)):\n",
    "            if x[i]*x[i]+y[j]*y[j]==z[k]*z[k]:\n",
    "                triple_Pi.append([x[i],y[j],z[k]])\n",
    "\n",
    "\n",
    "Pythagorean=(triple_Pi)\n",
    "\n",
    "print(Pythagorean)\n",
    "\n"
   ]
  },
  {
   "cell_type": "markdown",
   "metadata": {},
   "source": [
    "9\\. Normalization\n",
    "\n",
    "Write a function that takes a tuple of numbers and returns it with the entries normalized to one"
   ]
  },
  {
   "cell_type": "code",
   "execution_count": 9,
   "metadata": {},
   "outputs": [
    {
     "name": "stdout",
     "output_type": "stream",
     "text": [
      "Quanti numeri vuoi inserire ? 4\n",
      "1\n",
      "2\n",
      "3\n",
      "4\n",
      "la tuple inserita è : (1.0, 2.0, 3.0, 4.0)\n"
     ]
    },
    {
     "data": {
      "text/plain": [
       "('la tuple normalizzata è :',\n",
       " (0.18257418583505536,\n",
       "  0.3651483716701107,\n",
       "  0.5477225575051661,\n",
       "  0.7302967433402214))"
      ]
     },
     "execution_count": 9,
     "metadata": {},
     "output_type": "execute_result"
    }
   ],
   "source": [
    "import math\n",
    "\n",
    "a=[]\n",
    "numero=0\n",
    "\n",
    "numeri=input(\"Quanti numeri vuoi inserire ? \")\n",
    "\n",
    "for i in range(int(numeri)):\n",
    "    numero=float( input() )\n",
    "    a.append(numero)\n",
    "    \n",
    "\n",
    "aux1=tuple(a)   \n",
    "\n",
    "print(\"la tuple inserita è :\",aux1)\n",
    "\n",
    "def norm(x):\n",
    "    if type(x)==tuple:\n",
    "        tot=0\n",
    "        y=[]\n",
    "        z=[]\n",
    "        for j in range(len(x)):\n",
    "            y.append(x[j])\n",
    "    \n",
    "        for i in range(len(y)):\n",
    "            tot=tot+float(y[i]*y[i])\n",
    "                                  \n",
    "        for k in range(len(y)):\n",
    "            z.append(y[k]/math.sqrt(tot))\n",
    "    \n",
    "        aux2=tuple(z)\n",
    "\n",
    "        return(\"la tuple normalizzata è :\",aux2)\n",
    "    else :\n",
    "        return(\"Errore:inserire un tuple\")\n",
    "   \n",
    "\n",
    "norm(aux1)    \n"
   ]
  },
  {
   "cell_type": "markdown",
   "metadata": {},
   "source": []
  }
 ],
 "metadata": {
  "kernelspec": {
   "display_name": "Python 3",
   "language": "python",
   "name": "python3"
  },
  "language_info": {
   "codemirror_mode": {
    "name": "ipython",
    "version": 3
   },
   "file_extension": ".py",
   "mimetype": "text/x-python",
   "name": "python",
   "nbconvert_exporter": "python",
   "pygments_lexer": "ipython3",
   "version": "3.7.3"
  }
 },
 "nbformat": 4,
 "nbformat_minor": 2
}
