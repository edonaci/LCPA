{
 "cells": [
  {
   "cell_type": "markdown",
   "metadata": {},
   "source": [
    "### Numpy basics"
   ]
  },
  {
   "cell_type": "markdown",
   "metadata": {},
   "source": [
    "1\\. Find the row, column and overall means for the following matrix:\n",
    "\n",
    "```python\n",
    "m = np.arange(12).reshape((3,4))\n",
    "```"
   ]
  },
  {
   "cell_type": "code",
   "execution_count": 1,
   "metadata": {},
   "outputs": [
    {
     "name": "stdout",
     "output_type": "stream",
     "text": [
      "[[ 0  1  2  3]\n",
      " [ 4  5  6  7]\n",
      " [ 8  9 10 11]]\n",
      "fisso la colonna 0 la media su tutte le rige è : 4.0\n",
      "fisso la colonna 1 la media su tutte le rige è : 5.0\n",
      "fisso la colonna 2 la media su tutte le rige è : 6.0\n",
      "fisso la colonna 3 la media su tutte le rige è : 7.0\n",
      "fisso la riga 0 la media su tutte le colonne è : 1.5\n",
      "fisso la riga 1 la media su tutte le colonne è : 5.5\n",
      "fisso la riga 2 la media su tutte le colonne è : 9.5\n"
     ]
    }
   ],
   "source": [
    "import numpy as np\n",
    "m = np.arange(12).reshape((3,4))\n",
    "\n",
    "print(m)\n",
    "\n",
    "for i in range(0,4):\n",
    "    somma=0\n",
    "    for j in range(0,3):\n",
    "        somma=somma+m[j,i]\n",
    "    print(\"fisso la colonna\",i,\"la media su tutte le rige è :\",somma/3)\n",
    "\n",
    "for i in range(0,3):\n",
    "    somma=0\n",
    "    for j in range(0,4):\n",
    "        somma=somma+m[i,j]\n",
    "    print(\"fisso la riga\",i,\"la media su tutte le colonne è :\",somma/4)\n",
    "\n",
    "\n",
    "\n"
   ]
  },
  {
   "cell_type": "markdown",
   "metadata": {},
   "source": [
    "2\\. Find the outer product of the following two vecotrs\n",
    "\n",
    "```python\n",
    "u = np.array([1,3,5,7])\n",
    "v = np.array([2,4,6,8])\n",
    "```\n",
    "\n",
    "Do this in the following ways:\n",
    "\n",
    "   * Using the function outer in numpy\n",
    "   * Using a nested for loop or list comprehension\n",
    "   * Using numpy broadcasting operatoins\n"
   ]
  },
  {
   "cell_type": "code",
   "execution_count": 2,
   "metadata": {},
   "outputs": [
    {
     "name": "stdout",
     "output_type": "stream",
     "text": [
      "[[ 2  4  6  8]\n",
      " [ 6 12 18 24]\n",
      " [10 20 30 40]\n",
      " [14 28 42 56]]\n",
      "[[ 2  4  6  8]\n",
      " [ 6 12 18 24]\n",
      " [10 20 30 40]\n",
      " [14 28 42 56]]\n",
      "[[ 2  4  6  8]\n",
      " [ 6 12 18 24]\n",
      " [10 20 30 40]\n",
      " [14 28 42 56]]\n"
     ]
    }
   ],
   "source": [
    "import numpy as np\n",
    "\n",
    "u = np.array([1,3,5,7])\n",
    "v = np.array([2,4,6,8])\n",
    "\n",
    "matrix1=np.outer(u,v)\n",
    "\n",
    "matrix2=np.array([x*y for x in u for y in v]).reshape(4,4)\n",
    "\n",
    "matrix3=u.reshape(4,1)*v\n",
    "\n",
    "print(matrix1)\n",
    "print(matrix2)\n",
    "print(matrix3)"
   ]
  },
  {
   "cell_type": "markdown",
   "metadata": {},
   "source": [
    "3\\. Create a 10 by 6 matrix of random uniform numbers. Set all rows with any entry less than 0.1 to be zero\n",
    "\n",
    "Hint: Use the following numpy functions - np.random.random, np.any as well as Boolean indexing and the axis argument."
   ]
  },
  {
   "cell_type": "code",
   "execution_count": 3,
   "metadata": {},
   "outputs": [
    {
     "name": "stdout",
     "output_type": "stream",
     "text": [
      "[[0.38805658 0.04214134 0.30642247 0.014552   0.41912279 0.11090623]\n",
      " [0.02192644 0.46804073 0.44009442 0.54446276 0.26464257 0.00593512]\n",
      " [0.50771921 0.8939687  0.0923226  0.61134068 0.56184084 0.77157605]\n",
      " [0.98927259 0.39638646 0.19839723 0.30672818 0.69024124 0.27813834]\n",
      " [0.18782285 0.97720704 0.42105416 0.45554594 0.81887158 0.06067488]\n",
      " [0.06523254 0.47914098 0.96222641 0.44829089 0.66956079 0.1340267 ]\n",
      " [0.56671964 0.0295065  0.43798056 0.20405973 0.56532159 0.50900052]\n",
      " [0.41403276 0.42544434 0.72056239 0.78374313 0.20288385 0.320261  ]\n",
      " [0.97228814 0.62814946 0.62074244 0.17976461 0.29770689 0.87489608]\n",
      " [0.29905101 0.42305686 0.92914261 0.82364521 0.50962469 0.26775373]]\n",
      "[[0.         0.         0.         0.         0.         0.        ]\n",
      " [0.         0.         0.         0.         0.         0.        ]\n",
      " [0.         0.         0.         0.         0.         0.        ]\n",
      " [0.98927259 0.39638646 0.19839723 0.30672818 0.69024124 0.27813834]\n",
      " [0.         0.         0.         0.         0.         0.        ]\n",
      " [0.         0.         0.         0.         0.         0.        ]\n",
      " [0.         0.         0.         0.         0.         0.        ]\n",
      " [0.41403276 0.42544434 0.72056239 0.78374313 0.20288385 0.320261  ]\n",
      " [0.97228814 0.62814946 0.62074244 0.17976461 0.29770689 0.87489608]\n",
      " [0.29905101 0.42305686 0.92914261 0.82364521 0.50962469 0.26775373]]\n"
     ]
    }
   ],
   "source": [
    "import numpy as np\n",
    "import numpy.random as npr\n",
    "\n",
    "a=npr.rand(10,6)\n",
    "\n",
    "print(a)\n",
    "\n",
    "for x in range(0,10):\n",
    "    for y in range(0,6):\n",
    "        if a[x][y]<0.1:\n",
    "            a[x,:]=0.0\n",
    "            \n",
    "\n",
    "print(a)\n",
    "\n",
    "\n"
   ]
  },
  {
   "cell_type": "markdown",
   "metadata": {},
   "source": [
    "4\\. Use np.linspace to create an array of 100 numbers between 0 and 2π (includsive).\n",
    "\n",
    "  * Extract every 10th element using slice notation\n",
    "  * Reverse the array using slice notation\n",
    "  * Extract elements where the absolute difference between the sine and cosine functions evaluated at that element is less than 0.1\n",
    "  * Make a plot showing the sin and cos functions and indicate where they are close"
   ]
  },
  {
   "cell_type": "code",
   "execution_count": 11,
   "metadata": {},
   "outputs": [
    {
     "name": "stdout",
     "output_type": "stream",
     "text": [
      "l'array con gli elementi di a estratti è : \n",
      " [0.57119866 1.20586385 1.84052903 2.47519421 3.10985939 3.74452458\n",
      " 4.37918976 5.01385494 5.64852012]\n",
      "[6.28318531 6.21971879 6.15625227 6.09278575 6.02931923 5.96585272\n",
      " 5.9023862  5.83891968 5.77545316 5.71198664 5.64852012 5.58505361\n",
      " 5.52158709 5.45812057 5.39465405 5.33118753 5.26772102 5.2042545\n",
      " 5.14078798 5.07732146 5.01385494 4.95038842 4.88692191 4.82345539\n",
      " 4.75998887 4.69652235 4.63305583 4.56958931 4.5061228  4.44265628\n",
      " 4.37918976 4.31572324 4.25225672 4.1887902  4.12532369 4.06185717\n",
      " 3.99839065 3.93492413 3.87145761 3.8079911  3.74452458 3.68105806\n",
      " 3.61759154 3.55412502 3.4906585  3.42719199 3.36372547 3.30025895\n",
      " 3.23679243 3.17332591 3.10985939 3.04639288 2.98292636 2.91945984\n",
      " 2.85599332 2.7925268  2.72906028 2.66559377 2.60212725 2.53866073\n",
      " 2.47519421 2.41172769 2.34826118 2.28479466 2.22132814 2.15786162\n",
      " 2.0943951  2.03092858 1.96746207 1.90399555 1.84052903 1.77706251\n",
      " 1.71359599 1.65012947 1.58666296 1.52319644 1.45972992 1.3962634\n",
      " 1.33279688 1.26933037 1.20586385 1.14239733 1.07893081 1.01546429\n",
      " 0.95199777 0.88853126 0.82506474 0.76159822 0.6981317  0.63466518\n",
      " 0.57119866 0.50773215 0.44426563 0.38079911 0.31733259 0.25386607\n",
      " 0.19039955 0.12693304 0.06346652 0.        ]\n"
     ]
    },
    {
     "data": {
      "image/png": "[encoded data removed]",
      "text/plain": [
       "<Figure size 432x288 with 1 Axes>"
      ]
     },
     "metadata": {
      "needs_background": "light"
     },
     "output_type": "display_data"
    }
   ],
   "source": [
    "import math as m\n",
    "import numpy as np\n",
    "import matplotlib.pyplot as plt\n",
    "\n",
    "\n",
    "a=np.linspace(0,2*m.pi,100)\n",
    "\n",
    "element=a[9:99:10]\n",
    "reverse=a[::-1]\n",
    "\n",
    "\n",
    "print(\"l'array con gli elementi di a estratti è : \\n\",element)\n",
    "print(reverse)\n",
    "\n",
    "\n",
    "\n",
    "sin_cos=[]\n",
    "for x in range(len(a)) :\n",
    "    if abs(m.sin(a[x])-m.cos(a[x]))<0.1:\n",
    "        sin_cos.append(a[x])\n",
    " \n",
    "\n",
    "\n",
    "\n",
    "for x in range(len(sin_cos)):\n",
    "    plt.axvline(sin_cos[x], color='red')\n",
    "    \n",
    "s=np.sin(a)\n",
    "c=np.cos(a)\n",
    "plt.plot(a,s,a,c)    \n",
    "plt.show()\n",
    "\n"
   ]
  },
  {
   "cell_type": "markdown",
   "metadata": {},
   "source": [
    "5\\. Create a matrix that shows the 10 by 10 multiplication table.\n",
    "\n",
    " * Find the trace of the matrix\n",
    " * Extract the anto-diagonal (this should be ```array([10, 18, 24, 28, 30, 30, 28, 24, 18, 10])```)\n",
    " * Extract the diagnoal offset by 1 upwards (this should be ```array([ 2,  6, 12, 20, 30, 42, 56, 72, 90])```)"
   ]
  },
  {
   "cell_type": "code",
   "execution_count": 5,
   "metadata": {},
   "outputs": [
    {
     "name": "stdout",
     "output_type": "stream",
     "text": [
      "[[  1   2   3   4   5   6   7   8   9  10]\n",
      " [  2   4   6   8  10  12  14  16  18  20]\n",
      " [  3   6   9  12  15  18  21  24  27  30]\n",
      " [  4   8  12  16  20  24  28  32  36  40]\n",
      " [  5  10  15  20  25  30  35  40  45  50]\n",
      " [  6  12  18  24  30  36  42  48  54  60]\n",
      " [  7  14  21  28  35  42  49  56  63  70]\n",
      " [  8  16  24  32  40  48  56  64  72  80]\n",
      " [  9  18  27  36  45  54  63  72  81  90]\n",
      " [ 10  20  30  40  50  60  70  80  90 100]]\n",
      "385\n",
      "[10, 18, 24, 28, 30, 30, 28, 24, 18, 10]\n",
      "[2, 6, 12, 20, 30, 42, 56, 72, 90]\n"
     ]
    }
   ],
   "source": [
    "import numpy as np\n",
    "\n",
    "m = np.arange(1,11)\n",
    "n=np.arange(1,11)\n",
    "\n",
    "matrix=np.outer(m,n)\n",
    "traccia=0\n",
    "\n",
    "for i in range(len(matrix)):\n",
    "    traccia=traccia+matrix[i,i]\n",
    "    \n",
    "anto=[]\n",
    "for j in range(len(matrix)):\n",
    "    anto.append(matrix[j,len(matrix)-1-j])\n",
    "\n",
    "up=[]\n",
    "\n",
    "for k in range(len(matrix-1)):\n",
    "    if k!=9:\n",
    "        up.append(matrix[k,k+1])\n",
    "\n",
    "\n",
    "print(matrix)\n",
    "print(traccia)\n",
    "print(anto)\n",
    "print(up)"
   ]
  },
  {
   "cell_type": "markdown",
   "metadata": {},
   "source": [
    "6\\. Use broadcasting to create a grid of distances\n",
    "\n",
    "Route 66 crosses the following cities in the US: Chicago, Springfield, Saint-Louis, Tulsa, Oklahoma City, Amarillo, Santa Fe, Albuquerque, Flagstaff, Los Angeles\n",
    "The corresponding positions in miles are: 0, 198, 303, 736, 871, 1175, 1475, 1544, 1913, 2448\n",
    "\n",
    "  * Construct a 2D grid of distances among each city along Route 66\n",
    "  * Convert that in km (those savages...)"
   ]
  },
  {
   "cell_type": "code",
   "execution_count": 6,
   "metadata": {},
   "outputs": [
    {
     "name": "stdout",
     "output_type": "stream",
     "text": [
      "['Chicago' 'Springfield' 'Saint-Louis' 'Oklahoma City' 'Amarillo'\n",
      " 'Santa Fe' 'Albuquerque' 'Flagstaff' 'Los Angeles']\n",
      "[[   0  105  538  673  977 1277 1346 1715 2250]\n",
      " [ 105    0  433  568  872 1172 1241 1610 2145]\n",
      " [ 538  433    0  135  439  739  808 1177 1712]\n",
      " [ 673  568  135    0  304  604  673 1042 1577]\n",
      " [ 977  872  439  304    0  300  369  738 1273]\n",
      " [1277 1172  739  604  300    0   69  438  973]\n",
      " [1346 1241  808  673  369   69    0  369  904]\n",
      " [1715 1610 1177 1042  738  438  369    0  535]\n",
      " [2250 2145 1712 1577 1273  973  904  535    0]]\n",
      "[[   0.           65.24397518  334.29770142  418.18281238  607.07965482\n",
      "   793.49101249  836.36562475 1065.65159469 1398.08518253]\n",
      " [  65.24397518    0.          269.05372624  352.93883719  541.83567963\n",
      "   728.2470373   771.12164957 1000.4076195  1332.84120735]\n",
      " [ 334.29770142  269.05372624    0.           83.88511095  272.78195339\n",
      "   459.19331106  502.06792333  731.35389326 1063.78748111]\n",
      " [ 418.18281238  352.93883719   83.88511095    0.          188.89684244\n",
      "   375.30820011  418.18281238  647.46878231  979.90237016]\n",
      " [ 607.07965482  541.83567963  272.78195339  188.89684244    0.\n",
      "   186.41135767  229.28596994  458.57193987  791.00552772]\n",
      " [ 793.49101249  728.2470373   459.19331106  375.30820011  186.41135767\n",
      "     0.           42.87461226  272.1605822   604.59417005]\n",
      " [ 836.36562475  771.12164957  502.06792333  418.18281238  229.28596994\n",
      "    42.87461226    0.          229.28596994  561.71955778]\n",
      " [1065.65159469 1000.4076195   731.35389326  647.46878231  458.57193987\n",
      "   272.1605822   229.28596994    0.          332.43358785]\n",
      " [1398.08518253 1332.84120735 1063.78748111  979.90237016  791.00552772\n",
      "   604.59417005  561.71955778  332.43358785    0.        ]]\n"
     ]
    }
   ],
   "source": [
    "import numpy as np\n",
    "\n",
    "cities=np.array([\"Chicago\",\"Springfield\",\"Saint-Louis\",\"Oklahoma City\",\"Amarillo\",\"Santa Fe\",\"Albuquerque\",\n",
    "       \"Flagstaff\",\"Los Angeles\"])\n",
    "\n",
    "positions=[198,303,736,871,1175,1475,1544,1913,2448]\n",
    "\n",
    "distances=np.array([abs(x-y) for x in positions for y in positions])\n",
    "\n",
    "distances=distances.reshape(9,9)\n",
    "\n",
    "kilometre=np.array([x/1.609344 for x in distances])\n",
    "\n",
    "\n",
    "cities=cities.reshape(9,)\n",
    "\n",
    "print(cities)\n",
    "    \n",
    "print(distances)\n",
    "print(kilometre)"
   ]
  },
  {
   "cell_type": "markdown",
   "metadata": {},
   "source": [
    "7\\. Prime numbers sieve: compute the prime numbers in the 0-N (N=99 to start with) range with a sieve (mask).\n",
    "  * Constract a shape (100,) boolean array, the mask\n",
    "  * Identify the multiples of each number starting from 2 and set accordingly the corresponding mask element\n",
    "  * Apply the mask to obtain an array of ordered prime numbers\n",
    "  * Check the performances (timeit); how does it scale with N?\n",
    "  * Implement the optimization suggested in the [sieve of Eratosthenes](https://en.wikipedia.org/wiki/Sieve_of_Eratosthenes)"
   ]
  },
  {
   "cell_type": "code",
   "execution_count": 7,
   "metadata": {},
   "outputs": [
    {
     "name": "stdout",
     "output_type": "stream",
     "text": [
      "26.1 ns ± 4.63 ns per loop (mean ± std. dev. of 7 runs, 10000000 loops each)\n"
     ]
    }
   ],
   "source": [
    "import numpy as np\n",
    "\n",
    "#for x in range(100,100000,10000):\n",
    "    #print(x)\n",
    "a = np.arange(0,10000).reshape(10000,)\n",
    "#print (\"original array:\", a,'\\n')\n",
    "\n",
    "mask = (a % 2 == 0)\n",
    "#print (\"the mask:\", mask,'\\n')\n",
    "\n",
    "mask1 = (a%3 == 0)\n",
    "#print (\"the mask1 : \",mask1,\"\\n\")\n",
    "\n",
    "mask2 = (a%5 == 0)\n",
    "#print (\"the mask2 :\",mask+mask1+mask2,'\\n')\n",
    "\n",
    "mask3 = (a%7==0)\n",
    "\n",
    "filtro= a[mask+mask1+mask2+mask3]\n",
    "aux=[x for x in a if x not in filtro]\n",
    "\n",
    "\n",
    "aux.insert(1,2)\n",
    "aux.insert(2,3)\n",
    "aux.insert(3,5)\n",
    "aux.insert(5,7)\n",
    "\n",
    "#print(aux)\n",
    "%timeit aux\n",
    "#il tempo impiegato per ogni loop è sempre intorno ai 60-70 ns\n"
   ]
  },
  {
   "cell_type": "code",
   "execution_count": 8,
   "metadata": {},
   "outputs": [
    {
     "name": "stdout",
     "output_type": "stream",
     "text": [
      "[1, 2, 3, 5, 7, 11, 13, 17, 19, 23, 29, 31, 37, 41, 43, 47, 53, 59, 61, 67, 71, 73, 79, 83, 89, 97]\n"
     ]
    }
   ],
   "source": [
    "import numpy as np\n",
    "\n",
    "a=np.arange(0,100)\n",
    "\n",
    "ogni_2=[]\n",
    "x=4\n",
    "while(x<100):\n",
    "    ogni_2.append(a[x])\n",
    "    x=x+2\n",
    "    \n",
    "#filtro2=[x for x in a if x not in ogni_2 ]\n",
    "#print(filtro2)\n",
    "\n",
    "ogni_3=[]\n",
    "x=6\n",
    "while(x<len(a)):\n",
    "    ogni_3.append(a[x])\n",
    "    x=x+3\n",
    "    \n",
    "#filtro3=[x for x in filtro2 if x not in ogni_3]\n",
    "#print(filtro3)\n",
    "\n",
    "ogni_5=[]\n",
    "x=10\n",
    "while(x<len(a)):\n",
    "    ogni_3.append(a[x])\n",
    "    x=x+5\n",
    "    \n",
    "ogni_7=[]\n",
    "x=14\n",
    "while(x<len(a)):\n",
    "    ogni_5.append(a[x])\n",
    "    x=x+7\n",
    "    \n",
    "filtro=[x for x in a if x not in ogni_2 if x not in ogni_3 if x not in ogni_5 if x not in ogni_7]\n",
    "filtro.remove(0)\n",
    "print(filtro)\n",
    "\n"
   ]
  },
  {
   "cell_type": "markdown",
   "metadata": {},
   "source": [
    "8\\. Diffusion using random walk\n",
    "\n",
    "Consider a simple random walk process: at each step in time, a walker jumps right or left (+1 or -1) with equal probability. The goal is to find the typical distance from the origin of a random walker after a given amount of time. \n",
    "To do that, let's simulate many walkers and create a 2D array with each walker as a raw and the actual time evolution as columns\n",
    "\n",
    "  * Take 1000 walkers and let them walk for 200 steps\n",
    "  * Use randint to create a 2D array of size walkers x steps with values -1 or 1\n",
    "  * Build the actual walking distances for each walker (i.e. another 2D array \"summing on each raw\")\n",
    "  * Take the square of that 2D array (elementwise)\n",
    "  * Compute the mean of the squared distances at each step (i.e. the mean along the columns)\n",
    "  * Plot the average distances (sqrt(distance\\*\\*2)) as a function of time (step)\n",
    "  \n",
    "Did you get what you expected?"
   ]
  },
  {
   "cell_type": "code",
   "execution_count": 9,
   "metadata": {},
   "outputs": [
    {
     "data": {
      "image/png": "[encoded data removed]",
      "text/plain": [
       "<Figure size 432x288 with 1 Axes>"
      ]
     },
     "metadata": {
      "needs_background": "light"
     },
     "output_type": "display_data"
    }
   ],
   "source": [
    "import math as m\n",
    "import numpy.random as npr\n",
    "import matplotlib.pyplot as plt\n",
    "\n",
    "npr.seed(123)\n",
    "\n",
    "x=1\n",
    "walk=[]\n",
    "\n",
    "while(x<=1000*200):\n",
    "    a=int(npr.randint(-1,1))\n",
    "    if a==-1:\n",
    "        walk.append(a)\n",
    "    if a==0:\n",
    "        walk.append(1)\n",
    "    x=x+1\n",
    "\n",
    "walker_steps=np.array(walk)\n",
    "\n",
    "walker_steps=walker_steps.reshape(1000,200)\n",
    "\n",
    "walker_distance=np.array(walker_steps.sum(axis=1)).reshape(1000,1)\n",
    "\n",
    "walker_distance_square=walker_distance**2\n",
    "\n",
    "medium_walker_distance_per_step=np.array(walker_steps.sum(axis=0)).reshape(1,200)\n",
    "\n",
    "medium_walker_distance_per_step_square=np.array(medium_walker_distance_per_step**2/1000)\n",
    "\n",
    "s=[m.sqrt(x) for x in medium_walker_distance_per_step_square[0]]\n",
    "\n",
    "#print(s)\n",
    "\n",
    "t=np.array([y for y in range(1,201)])\n",
    "plt.scatter(t,s)\n",
    "plt.show()\n",
    "\n",
    "#it looks like that the medium distance is near to zero for each step.It's understandble because for each step,by mean,the\n",
    "#particle don't move from initial position having the same probability to go to the right or to the left."
   ]
  },
  {
   "cell_type": "raw",
   "metadata": {},
   "source": [
    "# 9\\. Analyze a data file \n",
    "  * Download the population of hares, lynxes and carrots at the beginning of the last century.\n",
    "    ```python\n",
    "    ! wget https://www.dropbox.com/s/3vigxoqayo389uc/populations.txt\n",
    "    ```\n",
    "\n",
    "  * Check the content by looking within the file\n",
    "  * Load the data (use an appropriate numpy method) into a 2D array\n",
    "  * Create arrays out of the columns, the arrays being (in order): *year*, *hares*, *lynxes*, *carrots* \n",
    "  * Plot the 3 populations over the years\n",
    "  * Compute the main statistical properties of the dataset (mean, std, correlations, etc.)\n",
    "  * Which species has the highest population each year?\n",
    "\n",
    "Do you feel there is some evident correlation here? [Studies](https://www.enr.gov.nt.ca/en/services/lynx/lynx-snowshoe-hare-cycle) tend to believe so."
   ]
  },
  {
   "cell_type": "code",
   "execution_count": 10,
   "metadata": {},
   "outputs": [
    {
     "data": {
      "image/png": "[encoded data removed]",
      "text/plain": [
       "<Figure size 432x288 with 1 Axes>"
      ]
     },
     "metadata": {
      "needs_background": "light"
     },
     "output_type": "display_data"
    },
    {
     "name": "stdout",
     "output_type": "stream",
     "text": [
      "Distribuzione lepri\n",
      "coeff.corre: -0.389177\n",
      "il valore medio è : 34080.95238095238\n",
      "deviazione standard è : 20897.906458089667\n",
      "Distribuzione linci\n",
      "coeff.corre: -0.025448\n",
      "il valore medio è : 20166.666666666668\n",
      "deviazione standard è : 16254.591536908765\n",
      "Distribuzione carote\n",
      "coeff.corre: -0.136333\n",
      "il valore medio è : 42400.0\n",
      "deviazione standard è : 3322.506225584479\n",
      "La popolazione più numerosa per l'anno : 1900\n",
      "carrots\n",
      "La popolazione più numerosa per l'anno : 1901\n",
      "carrots\n",
      "La popolazione più numerosa per l'anno : 1902\n",
      "hares\n",
      "La popolazione più numerosa per l'anno : 1903\n",
      "hares\n",
      "La popolazione più numerosa per l'anno : 1904\n",
      "lynxes\n",
      "La popolazione più numerosa per l'anno : 1905\n",
      "lynxes\n",
      "La popolazione più numerosa per l'anno : 1906\n",
      "carrots\n",
      "La popolazione più numerosa per l'anno : 1907\n",
      "carrots\n",
      "La popolazione più numerosa per l'anno : 1908\n",
      "carrots\n",
      "La popolazione più numerosa per l'anno : 1909\n",
      "carrots\n",
      "La popolazione più numerosa per l'anno : 1910\n",
      "carrots\n",
      "La popolazione più numerosa per l'anno : 1911\n",
      "carrots\n",
      "La popolazione più numerosa per l'anno : 1912\n",
      "hares\n",
      "La popolazione più numerosa per l'anno : 1913\n",
      "hares\n",
      "La popolazione più numerosa per l'anno : 1914\n",
      "hares\n",
      "La popolazione più numerosa per l'anno : 1915\n",
      "lynxes\n",
      "La popolazione più numerosa per l'anno : 1916\n",
      "carrots\n",
      "La popolazione più numerosa per l'anno : 1917\n",
      "carrots\n",
      "La popolazione più numerosa per l'anno : 1918\n",
      "carrots\n",
      "La popolazione più numerosa per l'anno : 1919\n",
      "carrots\n",
      "La popolazione più numerosa per l'anno : 1920\n",
      "carrots\n"
     ]
    }
   ],
   "source": [
    "import matplotlib.pyplot as plt\n",
    "import numpy as np\n",
    "import math as m\n",
    "from scipy import stats\n",
    "import csv\n",
    "\n",
    "\n",
    "filename = \"populations.txt\"\n",
    "lines = csv.reader(open(filename, newline=''),delimiter='\\t')\n",
    "dataset=list(lines)\n",
    "\n",
    "years=np.array([int(dataset[1+x][0]) for x in range(len(dataset)-1)])\n",
    "hares=np.array([float(dataset[1+x][1]) for x in range(len(dataset)-1)])\n",
    "lynxes=np.array([float(dataset[1+x][2]) for x in range(len(dataset)-1)])\n",
    "carrots=np.array([int(dataset[1+x][3]) for x in range(len(dataset)-1)])\n",
    "\n",
    "plt.plot(years,hares,\"blue\")\n",
    "plt.plot(years,lynxes,\"red\")\n",
    "plt.plot(years,carrots,\"green\")\n",
    "plt.show()\n",
    "\n",
    "def std(dati):\n",
    "    media=dati.sum()/len(dati)\n",
    "    print(\"il valore medio è :\",media)\n",
    "    square=0\n",
    "    \n",
    "    for x in range(len(dati)):\n",
    "        square=square+pow((dati[x]-media),2)\n",
    "           \n",
    "    return(m.sqrt(square)/m.sqrt(len(dati)))\n",
    "\n",
    "print(\"Distribuzione lepri\")\n",
    "slope, intercept, r_value, p_value, std_err=stats.linregress(years,hares)\n",
    "print(\"coeff.corre: %f\" % (r_value))\n",
    "print(\"deviazione standard è :\",std(hares))\n",
    "\n",
    "print(\"Distribuzione linci\")\n",
    "slope, intercept, r_value, p_value, std_err=stats.linregress(years,lynxes)\n",
    "print(\"coeff.corre: %f\" % (r_value))\n",
    "print(\"deviazione standard è :\",std(lynxes))\n",
    "\n",
    "print(\"Distribuzione carote\")\n",
    "slope, intercept, r_value, p_value, std_err=stats.linregress(years,carrots)\n",
    "print(\"coeff.corre: %f\" % (r_value))\n",
    "print(\"deviazione standard è :\",std(carrots))\n",
    "\n",
    "for x in range(len(years)):\n",
    "    print(\"La popolazione più numerosa per l'anno :\",years[x])\n",
    "    if hares[x]>lynxes[x]>carrots[x] or hares[x]>carrots[x]>lynxes[x]:\n",
    "        print(\"hares\")\n",
    "    if lynxes[x]>hares[x]>carrots[x] or lynxes[x]>carrots[x]>hares[x]:\n",
    "        print(\"lynxes\")\n",
    "    if carrots[x]>hares[x]>lynxes[x] or carrots[x]>lynxes[x]>hares[x]:\n",
    "        print(\"carrots\")\n",
    "\n",
    "#But exists a correlation between growing up/falling down of hares population and lynxes population "
   ]
  },
  {
   "cell_type": "code",
   "execution_count": null,
   "metadata": {},
   "outputs": [],
   "source": []
  },
  {
   "cell_type": "code",
   "execution_count": null,
   "metadata": {},
   "outputs": [],
   "source": []
  }
 ],
 "metadata": {
  "kernelspec": {
   "display_name": "Python 3",
   "language": "python",
   "name": "python3"
  },
  "language_info": {
   "codemirror_mode": {
    "name": "ipython",
    "version": 3
   },
   "file_extension": ".py",
   "mimetype": "text/x-python",
   "name": "python",
   "nbconvert_exporter": "python",
   "pygments_lexer": "ipython3",
   "version": "3.7.3"
  }
 },
 "nbformat": 4,
 "nbformat_minor": 2
}
