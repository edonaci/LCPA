{
 "cells": [
  {
   "cell_type": "markdown",
   "metadata": {},
   "source": [
    "## Exercise 1\n",
    "\n",
    "Create a vectorized version of log and exp math function for 1D array A = [2, 5, 10, 3, 8]\n",
    "\n",
    "Results should be: \n",
    "+ [0.6931472 1.609438  2.3025851 1.0986123 2.0794415]\n",
    "+ [7.3890562e+00 1.4841316e+02 2.2026465e+04 2.0085537e+01 2.9809580e+03]"
   ]
  },
  {
   "cell_type": "code",
   "execution_count": 16,
   "metadata": {},
   "outputs": [],
   "source": [
    "import os\n",
    "import numpy as np\n",
    "import math\n",
    "os.environ[\"NUMBA_ENABLE_CUDASIM\"] = \"1\"\n",
    "from numba import jit, njit, vectorize, cuda\n"
   ]
  },
  {
   "cell_type": "code",
   "execution_count": 17,
   "metadata": {},
   "outputs": [
    {
     "name": "stdout",
     "output_type": "stream",
     "text": [
      "(array([0.69314718, 1.60943791, 2.30258509, 1.09861229, 2.07944154]), array([7.38905610e+00, 1.48413159e+02, 2.20264658e+04, 2.00855369e+01,\n",
      "       2.98095799e+03]))\n"
     ]
    }
   ],
   "source": [
    "from numba import njit\n",
    "import numpy as np\n",
    "\n",
    "@njit\n",
    "def log_exp_vec(x):\n",
    "    l=np.log(x)\n",
    "    e=np.exp(x)\n",
    "    return l,e\n",
    "\n",
    "A=[2,5,10,3,8]\n",
    "A=np.array(A)\n",
    "\n",
    "\n",
    "print(log_exp_vec(A))"
   ]
  },
  {
   "cell_type": "markdown",
   "metadata": {},
   "source": [
    "## Exerice 2\n",
    "Compute the value of a Gaussian probability density function at $x$ with $mean = 1$, $\\sigma = 1$, lower and upper bound in $(-3, 3)$ and $size = 100000$"
   ]
  },
  {
   "cell_type": "code",
   "execution_count": 3,
   "metadata": {},
   "outputs": [
    {
     "data": {
      "text/plain": [
       "array([0.00013383, 0.00013386, 0.00013389, ..., 0.05400393, 0.05399745,\n",
       "       0.05399097])"
      ]
     },
     "execution_count": 3,
     "metadata": {},
     "output_type": "execute_result"
    }
   ],
   "source": [
    "import numpy as np\n",
    "from numba import jit\n",
    "\n",
    "x=np.linspace(-3,3,100000)\n",
    "x=np.array(x)\n",
    "\n",
    "@jit(nopython=True)\n",
    "\n",
    "def prob_fun(x):\n",
    "    y=[]\n",
    "    mean=1\n",
    "    sigma=1\n",
    "    for i in range(x.size):\n",
    "        y.append( np.exp(-(x[i]-mean)**2/(2*sigma**2) )/np.sqrt(2*np.pi*sigma**2) ) \n",
    "    \n",
    "    y=np.array(y)  \n",
    "    \n",
    "    return(y)\n",
    "\n",
    "prob_fun(x)"
   ]
  },
  {
   "cell_type": "markdown",
   "metadata": {},
   "source": [
    "## Exercise 3\n",
    "\n",
    "Create a \"zero suppression\" function. A common operation when working with waveforms is to force all samples values below a certain absolute magnitude to be zero, as a way to eliminate low amplitude noise. \n",
    "Plot the data before and after the application of the zero_suppress function.\n",
    "\n",
    "$thresold = 15$"
   ]
  },
  {
   "cell_type": "code",
   "execution_count": 4,
   "metadata": {},
   "outputs": [
    {
     "data": {
      "image/png": "[encoded data removed]",
      "text/plain": [
       "<Figure size 432x288 with 1 Axes>"
      ]
     },
     "metadata": {
      "needs_background": "light"
     },
     "output_type": "display_data"
    },
    {
     "data": {
      "image/png": "[encoded data removed]",
      "text/plain": [
       "<Figure size 432x288 with 1 Axes>"
      ]
     },
     "metadata": {
      "needs_background": "light"
     },
     "output_type": "display_data"
    }
   ],
   "source": [
    "%matplotlib inline\n",
    "from matplotlib import pyplot as plt\n",
    "\n",
    "n = 100000\n",
    "noise = np.random.normal(size=n) * 3\n",
    "pulses = np.maximum(np.sin(np.arange(n) / (n / 23)) - 0.3, 0.0)\n",
    "data = ((pulses * 300) + noise).astype(np.int16)\n",
    "\n",
    "plt.plot(np.arange(n),data)\n",
    "plt.xlabel(\"n\")\n",
    "plt.ylabel(\"data\")\n",
    "plt.show()\n",
    "\n",
    "@jit(nopython=True,fastmath=True)\n",
    "\n",
    "def zero_suppress(data):\n",
    "    data_filtred=[]\n",
    "    for i in range(n):\n",
    "        if data[i]<15:\n",
    "            data_filtred.append(0)\n",
    "        else:\n",
    "            data_filtred.append(data[i])\n",
    "            \n",
    "    data_filtred=np.array(data_filtred)   \n",
    "    return(data_filtred)\n",
    "\n",
    "\n",
    "plt.plot(np.arange(n),zero_suppress(data),color=\"orange\" )\n",
    "plt.xlabel(\"n\")\n",
    "plt.ylabel(\"data\")\n",
    "plt.show()\n",
    "    "
   ]
  },
  {
   "cell_type": "markdown",
   "metadata": {},
   "source": [
    "## Exercise 4\n",
    "\n",
    "Calculate the Sigmoid kernel between the matrix X and Y defined as below. The Sigmoid kernel is defined as:\n",
    "\n",
    "$k(x,y) = \\tanh(\\alpha x^T y + c) $"
   ]
  },
  {
   "cell_type": "code",
   "execution_count": 5,
   "metadata": {},
   "outputs": [
    {
     "name": "stdout",
     "output_type": "stream",
     "text": [
      "The Sigmoid kernel is :  [[0.55801533 0.51386373 0.00082519]\n",
      " [0.56296665 0.08118014 0.03661013]\n",
      " [0.10311511 0.01162219 0.5373356 ]]\n"
     ]
    }
   ],
   "source": [
    "%matplotlib inline\n",
    "from matplotlib import pyplot as plt\n",
    "from numba import jit\n",
    "\n",
    "X = np.random.rand(3,3)\n",
    "Y = np.random.rand(3,3)\n",
    "\n",
    "@jit(nopython=True,fastmath=True,parallel=True)\n",
    "def kernel(x,y):\n",
    "    \n",
    "    alpha=1\n",
    "    c=0\n",
    "    \n",
    "    return(np.tanh(alpha*x.T*y+c))\n",
    "\n",
    "print(\"The Sigmoid kernel is : \",kernel(X,Y))"
   ]
  },
  {
   "cell_type": "markdown",
   "metadata": {},
   "source": [
    "# Exercise 5\n",
    "\n",
    "Create a kernel function similar to the ```double_kernel``` see during the lecture and create a new function that takes a 3 dimensional matrix as input calculating the $cos$ for each element and then returns the result. The shape of the matrix must be $256X256X256$. The matrix can be randomly generated"
   ]
  },
  {
   "cell_type": "code",
   "execution_count": 7,
   "metadata": {},
   "outputs": [
    {
     "name": "stdout",
     "output_type": "stream",
     "text": [
      "[[[-0.0859912   0.75684059 -0.27823633 ... -0.10622932 -0.56084954\n",
      "   -0.87911043]\n",
      "  [-0.2016076   1.38512022  0.77556404 ...  0.2071207   0.9053703\n",
      "   -1.03572069]\n",
      "  [-0.01624427  0.03455338 -0.38004421 ...  0.3791315   0.15142768\n",
      "    1.23113437]\n",
      "  ...\n",
      "  [-0.06249819  0.08048413  0.99875073 ...  1.31876533  0.28244551\n",
      "    1.16609207]\n",
      "  [ 0.25217358 -1.125411   -0.80394581 ... -0.64827097  1.93383967\n",
      "   -1.34175932]\n",
      "  [ 1.27257276 -1.76306239  1.24878498 ... -1.53756736  0.17152616\n",
      "   -0.88797199]]\n",
      "\n",
      " [[ 0.0799937   0.00415177 -0.8450913  ...  1.9508329  -2.22398817\n",
      "   -1.10120398]\n",
      "  [ 0.23788113 -0.19155355  0.54656136 ...  0.09953158 -0.08056545\n",
      "   -0.57721469]\n",
      "  [-0.50065969 -0.42282877  0.81524024 ...  0.94610799 -0.80068979\n",
      "    1.46353477]\n",
      "  ...\n",
      "  [ 0.25711758 -0.04749321 -1.54540307 ...  0.65753781  0.22223925\n",
      "    0.27461895]\n",
      "  [ 0.04917228 -2.90044164 -0.84418207 ... -0.54440931  1.22503551\n",
      "   -0.05810535]\n",
      "  [-0.52642388 -1.42561543  0.73217123 ... -0.22289237 -0.21274235\n",
      "    0.16176958]]\n",
      "\n",
      " [[-0.17013641 -1.06689189  1.0784492  ...  0.3867356  -1.4700571\n",
      "   -1.05667253]\n",
      "  [ 0.51594407  1.34506404 -1.99386339 ...  0.98303747  0.03489783\n",
      "    2.02064674]\n",
      "  [ 0.34564318  0.84511459  0.12020134 ... -0.44923838 -0.73888183\n",
      "   -0.85645187]\n",
      "  ...\n",
      "  [-0.08551598  0.24233059  0.87021451 ...  0.58524037  0.73241436\n",
      "   -1.25015566]\n",
      "  [ 0.1171328  -0.17972257  0.21603367 ...  0.37500413 -1.34494207\n",
      "   -0.9175221 ]\n",
      "  [ 0.37210827 -0.48995131 -1.05028235 ... -1.05948454  0.28706271\n",
      "    0.69125763]]\n",
      "\n",
      " ...\n",
      "\n",
      " [[ 0.51491137  0.08057619  0.00935914 ... -0.54551799  0.71801526\n",
      "   -0.55289093]\n",
      "  [ 0.53831035 -1.9204217   0.33533355 ...  0.64149848  0.07684531\n",
      "    1.21234193]\n",
      "  [ 0.24960899 -1.1633295   2.10940906 ... -0.8221797   1.54265574\n",
      "   -0.39877327]\n",
      "  ...\n",
      "  [-0.37399845 -1.09264754  0.12884149 ...  0.1735026   0.78837838\n",
      "    1.26027399]\n",
      "  [ 0.07178948 -0.50695325 -1.08777096 ... -0.55524335  0.27747791\n",
      "   -1.55530823]\n",
      "  [ 0.19723225 -0.54742997  3.13641682 ...  1.03486331  1.52047355\n",
      "   -0.23354596]]\n",
      "\n",
      " [[-0.5000307   0.24953969  1.27750168 ... -1.64714496 -2.35448618\n",
      "   -1.24654111]\n",
      "  [-0.42180777  2.47617952  0.46083581 ...  0.18665483  0.12008395\n",
      "    0.3888657 ]\n",
      "  [-0.4088797   0.15793619 -0.58432904 ... -0.90953566  2.74141538\n",
      "    0.5699264 ]\n",
      "  ...\n",
      "  [-0.77928451  0.75566743  0.09525066 ...  0.13574334  1.27104927\n",
      "    2.5365577 ]\n",
      "  [ 0.0898043  -0.92946924  0.94140465 ...  0.40002286 -1.08983695\n",
      "    0.53329572]\n",
      "  [-0.42751333 -0.08398971  1.60294798 ...  1.29940598  0.16715854\n",
      "   -1.05293448]]\n",
      "\n",
      " [[ 0.50936343 -0.42224587  0.80780034 ... -0.59692236 -0.82456638\n",
      "    1.24569338]\n",
      "  [ 0.54544781 -1.87383358  0.45947596 ... -1.8203254   1.29145923\n",
      "    0.15429173]\n",
      "  [ 0.10394213  0.70541846 -0.31203096 ... -0.35429582  0.82963644\n",
      "    0.43055635]\n",
      "  ...\n",
      "  [ 2.9065838  -0.69585153  1.307751   ... -0.51704    -1.52990412\n",
      "    1.07662721]\n",
      "  [-0.56039601 -1.22182082  1.21133353 ...  1.05260278 -0.36004647\n",
      "    0.90513952]\n",
      "  [-0.00619061  1.30866006 -1.33772788 ...  0.44335325  0.60007941\n",
      "   -1.38713261]]]\n"
     ]
    }
   ],
   "source": [
    "\n",
    "\n",
    "from numba import cuda\n",
    "\n",
    "# CUDA kernel\n",
    "@cuda.jit\n",
    "def cos_kernel_3D(io_array):\n",
    "    row, col, l = cuda.grid(3)\n",
    "    if row < io_array.shape[0] and col < io_array.shape[1] and l < io_array.shape[2]:\n",
    "        io_array[row][col][l] *= math.cos(io_array[row][col][l]) # do the computation\n",
    "\n",
    "x = np.random.normal(size=(256,256,256))\n",
    "\n",
    "\n",
    "threadsperblock = (16, 16)\n",
    "blockspergrid_x = int(math.ceil(x.shape[0] / threadsperblock[0]))\n",
    "blockspergrid_y = int(math.ceil(x.shape[1] / threadsperblock[1]))\n",
    "blockspergrid = (blockspergrid_x, blockspergrid_y)\n",
    "\n",
    "\n",
    "cos_kernel_3D[blockspergrid, threadsperblock](x)\n",
    "print(x)"
   ]
  },
  {
   "cell_type": "markdown",
   "metadata": {},
   "source": [
    "## Exercise 6\n",
    "\n",
    "Create a matrix multiplication kernel function, called ```matmul``` that takes as input two 2D matrices:\n",
    "+ A of shape $24x12$\n",
    "+ B of shape $12x22$\n",
    "and that computes the multiplication and put the results into a third matrix C of shape $24x12$\n",
    "\n",
    "A and B must be randomly generated and only int values are allowed.\n"
   ]
  },
  {
   "cell_type": "code",
   "execution_count": 15,
   "metadata": {},
   "outputs": [
    {
     "data": {
      "text/plain": [
       "False"
      ]
     },
     "execution_count": 15,
     "metadata": {},
     "output_type": "execute_result"
    }
   ],
   "source": [
    "from __future__ import division\n",
    "from numba import cuda\n",
    "import numpy\n",
    "import math\n",
    "\n",
    "# complete the code\n",
    "@cuda.jit\n",
    "def matmul(A, B, C):\n",
    "    \"\"\"Perform matrix multiplication of C = A * B\n",
    "    \"\"\"\n",
    "    row, col = cuda.grid(2)\n",
    "    if row < C.shape[0] and col < C.shape[1]:\n",
    "        tmp = 0.\n",
    "        for k in range(A.shape[1]):\n",
    "            tmp += A[row, k] * B[k, col]\n",
    "        C[row, col] = tmp\n",
    "r=300\n",
    "# Initialize the data arrays\n",
    "A = np.random.rand(r,r)\n",
    "B = np.random.rand(r,r)\n",
    "\n",
    "# Configure the blocks\n",
    "threadsperblock = (r, r)\n",
    "blockspergrid_x = 1\n",
    "blockspergrid_y = 1\n",
    "blockspergrid = (blockspergrid_x, blockspergrid_y)\n",
    "\n",
    "C = np.zeros((r,r))\n",
    "matmul[blockspergrid, threadsperblock](A, B, C)\n",
    "\n",
    "np.all(np.matmul(A,B) == C)\n"
   ]
  },
  {
   "cell_type": "code",
   "execution_count": null,
   "metadata": {},
   "outputs": [],
   "source": []
  }
 ],
 "metadata": {
  "kernelspec": {
   "display_name": "Python 3",
   "language": "python",
   "name": "python3"
  },
  "language_info": {
   "codemirror_mode": {
    "name": "ipython",
    "version": 3
   },
   "file_extension": ".py",
   "mimetype": "text/x-python",
   "name": "python",
   "nbconvert_exporter": "python",
   "pygments_lexer": "ipython3",
   "version": "3.7.3"
  }
 },
 "nbformat": 4,
 "nbformat_minor": 2
}
