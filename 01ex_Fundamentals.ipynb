{
 "cells": [
  {
   "cell_type": "markdown",
   "metadata": {},
   "source": [
    "1\\. Write the following as a list comprehension"
   ]
  },
  {
   "cell_type": "code",
   "execution_count": 1,
   "metadata": {},
   "outputs": [
    {
     "name": "stdout",
     "output_type": "stream",
     "text": [
      "[(0, 0), (0, 1), (0, 2), (0, 3), (1, 0), (1, 1), (1, 2), (1, 3), (2, 0), (2, 1), (2, 2), (2, 3)]\n",
      "[0, 4, 16]\n"
     ]
    }
   ],
   "source": [
    "# 1\n",
    "ans = []\n",
    "for i in range(3):\n",
    "    for j in range(4):\n",
    "        ans.append((i, j))\n",
    "print (ans)\n",
    "\n",
    "\n",
    "# 2\n",
    "ans = map(lambda x: x*x, filter(lambda x: x%2 == 0, range(5)))\n",
    "print(list(ans))\n",
    "\n",
    "\n",
    "\n"
   ]
  },
  {
   "cell_type": "code",
   "execution_count": 2,
   "metadata": {},
   "outputs": [
    {
     "name": "stdout",
     "output_type": "stream",
     "text": [
      "[(0, 0), (0, 1), (0, 2), (0, 3), (1, 0), (1, 1), (1, 2), (1, 3), (2, 0), (2, 1), (2, 2), (2, 3)]\n",
      "[0, 4, 16]\n"
     ]
    }
   ],
   "source": [
    "a=[(x,y) for x in range(3) for y in range(4)] #il mio codice\n",
    "print(a)\n",
    "\n",
    "b=[x*x for x in range(5) if x%2==0]\n",
    "print(b)\n"
   ]
  },
  {
   "cell_type": "markdown",
   "metadata": {},
   "source": [
    "2\\. Convert the following function into a pure function with no global variables or side effects"
   ]
  },
  {
   "cell_type": "code",
   "execution_count": 3,
   "metadata": {},
   "outputs": [
    {
     "name": "stdout",
     "output_type": "stream",
     "text": [
      "[1, 2, 3, 0, 1, 2, 3, 4]\n",
      "[1, 2, 3, 0, 1, 2, 3, 4]\n"
     ]
    }
   ],
   "source": [
    "x = 5\n",
    "def f(alist):\n",
    "    for i in range(x):\n",
    "         alist.append(i)\n",
    "    return alist\n",
    "\n",
    "alist = [1,2,3]\n",
    "ans = f(alist)\n",
    "print (ans)\n",
    "print (alist) # alist has been changed!"
   ]
  },
  {
   "cell_type": "code",
   "execution_count": 4,
   "metadata": {},
   "outputs": [
    {
     "name": "stdout",
     "output_type": "stream",
     "text": [
      "[1, 2, 3, 0, 1, 2, 3, 4]\n",
      "[1, 2, 3]\n"
     ]
    }
   ],
   "source": [
    "def f(alist):\n",
    "    x=5\n",
    "    for i in range(x):\n",
    "        alist.append(i)\n",
    "        \n",
    "    print(alist)\n",
    "    \n",
    "    for i in range(3,x+3):\n",
    "        alist.pop()\n",
    "       \n",
    "        \n",
    "    print(alist)\n",
    "    \n",
    "alist = [1,2,3]\n",
    "\n",
    "f(alist)\n"
   ]
  },
  {
   "cell_type": "markdown",
   "metadata": {},
   "source": [
    "3\\. Write a `decorator` hello that makes every wrapped function print “Hello!”, i.e. something like:\n",
    "\n",
    "```python\n",
    "@hello\n",
    "def square(x):\n",
    "    return x*x\n",
    "```\n",
    "\n"
   ]
  },
  {
   "cell_type": "code",
   "execution_count": 5,
   "metadata": {},
   "outputs": [
    {
     "name": "stdout",
     "output_type": "stream",
     "text": [
      "Hello!\n",
      "25\n"
     ]
    }
   ],
   "source": [
    "def hello(func):\n",
    "    def wrapper(x):\n",
    "        print(\"Hello!\")\n",
    "        func(x)\n",
    "    return wrapper\n",
    "\n",
    "@hello\n",
    "def square(x):\n",
    "    return print(x*x)\n",
    "\n",
    "square(5)\n"
   ]
  },
  {
   "cell_type": "markdown",
   "metadata": {},
   "source": [
    "4\\. Write the factorial function so that it a) does and b) does not use recursion."
   ]
  },
  {
   "cell_type": "code",
   "execution_count": 6,
   "metadata": {},
   "outputs": [
    {
     "name": "stdout",
     "output_type": "stream",
     "text": [
      "120\n"
     ]
    }
   ],
   "source": [
    "#without recursion\n",
    "def factorial(x):\n",
    "    aux=x\n",
    "    if x==0 or x==1:\n",
    "        print(1)\n",
    "    while(x>1):\n",
    "        x=x-1\n",
    "        aux=aux*x\n",
    "    print(aux)\n",
    "        \n",
    "x=int(5)\n",
    "\n",
    "factorial(x)"
   ]
  },
  {
   "cell_type": "code",
   "execution_count": 7,
   "metadata": {},
   "outputs": [
    {
     "data": {
      "text/plain": [
       "120"
      ]
     },
     "execution_count": 7,
     "metadata": {},
     "output_type": "execute_result"
    }
   ],
   "source": [
    "#using recursion\n",
    "\n",
    "def factorial(n,m):\n",
    "    \n",
    "    if n==0 or n==1:\n",
    "        return m\n",
    "    \n",
    "    else:\n",
    "        m=m*(n-1)\n",
    "        return factorial(n-1,m)\n",
    "    \n",
    "x=int(5)\n",
    "\n",
    "m=x\n",
    "\n",
    "factorial(x,m)"
   ]
  },
  {
   "cell_type": "raw",
   "metadata": {},
   "source": [
    "# 5\\. Use HOFs (zip in particular) to compute the weight of a circle, a disk and a sphere, assuming different radii and different densities:\n",
    "\n",
    "```python\n",
    "densities = {\"Al\":[0.5,1,2],\"Fe\":[3,4,5],\"Pb\": [15,20,30]}\n",
    "radii = [1,2,3]\n",
    "```\n",
    "\n",
    "where the entries of the dictionary's values are the linear, superficial and volumetric densities of the materials respectively.\n",
    "\n",
    "In particular define a list of three lambda functions using a comprehension that computes the circumference, the area and the volume for a given radius.\n"
   ]
  },
  {
   "cell_type": "code",
   "execution_count": 8,
   "metadata": {},
   "outputs": [
    {
     "name": "stdout",
     "output_type": "stream",
     "text": [
      "Ci sono gruppi da 3 che separano le circonferenze,i cerchi e infine le sfere a raggio variabile.\n",
      "In ogni riga ci sono i tre risultati relativi alle tre diverse densità per ogni elemento,il primo gruppo di tre righe\n",
      " ha densità  lineari(a raggio variabile),il secondo superficiali,il terzo volumetriche. Ogni riga ha raggio costante.  \n",
      " r=1:\n",
      "3.141592653589793 18.84955592153876 94.24777960769379\n",
      " r=2 :\n",
      "6.283185307179586 37.69911184307752 188.49555921538757\n",
      " r=3 :\n",
      "9.42477796076938 56.548667764616276 282.7433388230814\n",
      " r=1:\n",
      "3.141592653589793 12.566370614359172 62.83185307179586\n",
      " r=2 :\n",
      "12.566370614359172 50.26548245743669 251.32741228718345\n",
      " r=3 :\n",
      "28.274333882308138 113.09733552923255 565.4866776461628\n",
      " r=1:\n",
      "8.377580409572781 20.94395102393195 125.66370614359171\n",
      " r=2 :\n",
      "67.02064327658225 167.5516081914556 1005.3096491487337\n",
      " r=3 :\n",
      "226.1946710584651 565.4866776461628 3392.9200658769764\n"
     ]
    }
   ],
   "source": [
    "densities = {\"Al\":[0.5,1,2],\"Fe\":[3,4,5],\"Pb\": [15,20,30]}\n",
    "radii = [1,2,3]\n",
    "\n",
    "import math\n",
    "\n",
    "\n",
    "prova2=[list(map(lambda r : r*2*math.pi,radii)),list(map(lambda r : r*r*math.pi,radii)),list(map(lambda r : r*r*r*math.pi*4/3,radii))]           \n",
    "\n",
    "\n",
    "raggio1=prova2[0][0],prova2[1][0],prova2[2][0] #circonferenza,area,volume a raggio fisso\n",
    "raggio2=prova2[0][1],prova2[1][1],prova2[2][1]\n",
    "raggio3=prova2[0][2],prova2[1][2],prova2[2][2]\n",
    "\n",
    "Al=densities[\"Al\"]\n",
    "Fe=densities[\"Fe\"]\n",
    "Pb=densities[\"Pb\"]\n",
    "\n",
    "print(\"Ci sono gruppi da 3 che separano le circonferenze,i cerchi e infine le sfere a raggio variabile.\")\n",
    "print(\"In ogni riga ci sono i tre risultati relativi alle tre diverse densità per ogni elemento,il primo gruppo di tre righe\")\n",
    "print(\" ha densità  lineari(a raggio variabile),il secondo superficiali,il terzo volumetriche. Ogni riga ha raggio costante.  \")\n",
    "\n",
    "for x,y,z,a,f,p in zip(raggio1,raggio2,raggio3,Al,Fe,Pb):\n",
    "    \n",
    "    print(\" r=1:\")\n",
    "    print(x*a,x*f,x*p)\n",
    "    print(\" r=2 :\")\n",
    "    print(y*a,y*f,y*p)\n",
    "    print(\" r=3 :\")\n",
    "    print(z*a,z*f,z*p)\n",
    "\n",
    "\n"
   ]
  },
  {
   "cell_type": "code",
   "execution_count": 9,
   "metadata": {},
   "outputs": [
    {
     "name": "stdout",
     "output_type": "stream",
     "text": [
      "I have three dogs\n",
      "Tom is 3 years old\n",
      "Fletcher  is 7 years old\n",
      "Larry is 9 years old\n",
      "All species are mammals,of course\n",
      "My dogs are not hungry.\n"
     ]
    }
   ],
   "source": [
    "# 6\\. Edit the class definition to add an instance attribute of is_hungry = True to the Dog class. \n",
    "#Then add a method called eat() which changes the value of is_hungry to False when called. \n",
    "#Figure out the best way to feed each dog and then output “My dogs are hungry.” \n",
    "#if all are hungry or “My dogs are not hungry.” if all are not hungry. The final output should look like this:\n",
    "\n",
    "#`I have 3 dogs. \n",
    "#Tom is 6. \n",
    "#Fletcher is 7. \n",
    "#Larry is 9. \n",
    "#And they're all mammals, of course. \n",
    "#My dogs are not hungry.\n",
    "#`\n",
    "\n",
    "#```python\n",
    "# Parent class\n",
    "class Dog:\n",
    "\n",
    "    # Class attribute\n",
    "    is_hungry = True\n",
    "    species = 'mammal'\n",
    "    def not_eat():\n",
    "        return \"My dogs are hungry \"\n",
    "    #method called eat()\n",
    "    def eat(name):\n",
    "        is_hungry= False\n",
    "        return \"My dogs are not hungry.\"\n",
    "        \n",
    "    # Initializer / Instance attributes\n",
    "    def __init__(self, name, age):\n",
    "        self.name = name\n",
    "        self.age = age\n",
    "\n",
    "    # instance method\n",
    "    def description(self):\n",
    "        return \"{} is {} years old\".format(self.name, self.age)\n",
    "\n",
    "    # instance method\n",
    "    def speak(self, sound):\n",
    "        return \"{} says {}\".format(self.name, sound)\n",
    "\n",
    "# Child class (inherits from Dog class)\n",
    "class RussellTerrier(Dog):\n",
    "    def run(self, speed):\n",
    "        return \"{} runs {}\".format(self.name, speed)\n",
    "\n",
    "# Child class (inherits from Dog class)\n",
    "class Bulldog(Dog):\n",
    "    def run(self, speed):\n",
    "        return \"{} runs {}\".format(self.name, speed)\n",
    "    \n",
    "    \n",
    "    print(\"I have three dogs\")\n",
    "    Tom=Dog(\"Tom\",3)\n",
    "    print(Dog.description(Tom))\n",
    "    Fletcher=Dog(\"Fletcher \",7)\n",
    "    print(Dog.description(Fletcher))\n",
    "    Larry=Dog(\"Larry\",9)\n",
    "    print(Dog.description(Larry))\n",
    "    print(\"All species are \"+Dog.species+\"s,of course\")\n",
    "    print(Dog.eat(Tom))\n",
    "   # print(Dog.not_eat())\n",
    "    \n",
    "    \n",
    "    \n",
    "    \n",
    "#```"
   ]
  },
  {
   "cell_type": "code",
   "execution_count": null,
   "metadata": {},
   "outputs": [],
   "source": []
  }
 ],
 "metadata": {
  "kernelspec": {
   "display_name": "Python 3",
   "language": "python",
   "name": "python3"
  },
  "language_info": {
   "codemirror_mode": {
    "name": "ipython",
    "version": 3
   },
   "file_extension": ".py",
   "mimetype": "text/x-python",
   "name": "python",
   "nbconvert_exporter": "python",
   "pygments_lexer": "ipython3",
   "version": "3.7.3"
  }
 },
 "nbformat": 4,
 "nbformat_minor": 2
}
